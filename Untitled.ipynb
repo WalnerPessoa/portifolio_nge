{
 "cells": [
  {
   "cell_type": "code",
   "execution_count": 64,
   "metadata": {},
   "outputs": [],
   "source": [
    "import os\n",
    "\n",
    "def fast_scandir(dirname):\n",
    "    subfolders= [f.path for f in os.scandir(dirname) if f.is_dir()]\n",
    "    for dirname in list(subfolders):\n",
    "        subfolders.extend(fast_scandir(dirname))\n",
    "    return subfolders"
   ]
  },
  {
   "cell_type": "code",
   "execution_count": 65,
   "metadata": {},
   "outputs": [],
   "source": [
    "subfolders= fast_scandir(fileDir)"
   ]
  },
  {
   "cell_type": "code",
   "execution_count": 67,
   "metadata": {},
   "outputs": [
    {
     "name": "stdout",
     "output_type": "stream",
     "text": [
      "['ID_235331_Enquadramento_Cursos_dagua.pdf']\n",
      "['ID_233908_Agenda_Legislativa_2020_web.pdf']\n",
      "['ID_233908_Agenda_Legislativa_2020_interativo.pdf']\n",
      "['ID_193359_Estratégias Corporativas de Baixo Carbono_web.pdf']\n"
     ]
    }
   ],
   "source": [
    "#setar variáveis onde estão arquivos\n",
    "fileExt = r\"pdf\"\n",
    "folderes=[]\n",
    "for folder in subfolders:\n",
    "    files_array = [_ for _ in os.listdir(folder) if _.endswith(fileExt)] \n",
    "    if len(files_array)>0:\n",
    "        print(files_array)\n",
    "        folderes.append(files_array)"
   ]
  },
  {
   "cell_type": "code",
   "execution_count": 70,
   "metadata": {},
   "outputs": [
    {
     "name": "stdout",
     "output_type": "stream",
     "text": [
      "[['ID_235331_Enquadramento_Cursos_dagua.pdf'], ['ID_233908_Agenda_Legislativa_2020_web.pdf'], ['ID_233908_Agenda_Legislativa_2020_interativo.pdf'], ['ID_193359_Estratégias Corporativas de Baixo Carbono_web.pdf']]\n"
     ]
    }
   ],
   "source": [
    "print(folderes)"
   ]
  },
  {
   "cell_type": "code",
   "execution_count": null,
   "metadata": {},
   "outputs": [],
   "source": []
  }
 ],
 "metadata": {
  "kernelspec": {
   "display_name": "Python 3",
   "language": "python",
   "name": "python3"
  },
  "language_info": {
   "codemirror_mode": {
    "name": "ipython",
    "version": 3
   },
   "file_extension": ".py",
   "mimetype": "text/x-python",
   "name": "python",
   "nbconvert_exporter": "python",
   "pygments_lexer": "ipython3",
   "version": "3.8.5"
  }
 },
 "nbformat": 4,
 "nbformat_minor": 4
}
