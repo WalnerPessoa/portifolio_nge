{
 "cells": [
  {
   "cell_type": "code",
   "execution_count": 20,
   "metadata": {},
   "outputs": [],
   "source": [
    "import os\n",
    "#setar variáveis onde estão arquivos\n",
    "fileExt = r\"pdf\"\n",
    "fileDir = r\"/Users/wpessoa/repositorios/portifolio_nge/pdf/\"\n",
    "#dir_gpp = r\"smb://ensi-filer02/gerpubprop$/Coordenacao de Gestao Editorial/2020/CNI/PROTOCOLO DE ENCERRAMENTO\"\n",
    "files_array1 = [_ for _ in os.listdir(fileDir) if _.endswith(fileExt)]\n",
    "#files_array2 = [_ for _ in os.listdir(dir_gpp) if _.endswith(fileExt)]\n"
   ]
  },
  {
   "cell_type": "code",
   "execution_count": 22,
   "metadata": {},
   "outputs": [
    {
     "data": {
      "text/plain": [
       "'ID_235092_LGPD_web.pdf'"
      ]
     },
     "execution_count": 22,
     "metadata": {},
     "output_type": "execute_result"
    }
   ],
   "source": [
    "files_array1[0]"
   ]
  },
  {
   "cell_type": "code",
   "execution_count": 15,
   "metadata": {},
   "outputs": [
    {
     "data": {
      "text/plain": [
       "['.DS_Store', '2019', '2020', 'ID_233908_Agenda_Legislativa_2020_web.pdf']"
      ]
     },
     "execution_count": 15,
     "metadata": {},
     "output_type": "execute_result"
    }
   ],
   "source": [
    "os.listdir(\"/Users/wpessoa/repositorios/portifolio_nge/pdf/\")"
   ]
  },
  {
   "cell_type": "code",
   "execution_count": null,
   "metadata": {},
   "outputs": [],
   "source": []
  }
 ],
 "metadata": {
  "kernelspec": {
   "display_name": "Python 3",
   "language": "python",
   "name": "python3"
  },
  "language_info": {
   "codemirror_mode": {
    "name": "ipython",
    "version": 3
   },
   "file_extension": ".py",
   "mimetype": "text/x-python",
   "name": "python",
   "nbconvert_exporter": "python",
   "pygments_lexer": "ipython3",
   "version": "3.8.5"
  }
 },
 "nbformat": 4,
 "nbformat_minor": 4
}
