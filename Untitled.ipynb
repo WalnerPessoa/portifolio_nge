{
 "cells": [
  {
   "cell_type": "code",
   "execution_count": 44,
   "metadata": {},
   "outputs": [],
   "source": [
    "import os\n",
    "#setar variáveis onde estão arquivos\n",
    "fileExt = r\"pdf\"\n",
    "fileDir = r\"/Users/wpessoa/repositorios/portifolio_nge/pdf/\"\n",
    "#dir_gpp = r\"smb://ensi-filer02/gerpubprop$/Coordenacao de Gestao Editorial/2020/CNI/PROTOCOLO DE ENCERRAMENTO\"\n",
    "files_array1 = [_ for _ in os.listdir(fileDir) if _.endswith(fileExt)]\n",
    "#files_array2 = [_ for _ in os.listdir(dir_gpp) if _.endswith(fileExt)]\n"
   ]
  },
  {
   "cell_type": "code",
   "execution_count": 45,
   "metadata": {},
   "outputs": [
    {
     "data": {
      "text/plain": [
       "['ID_235092_LGPD_web.pdf', 'ID_233908_Agenda_Legislativa_2020_web.pdf']"
      ]
     },
     "execution_count": 45,
     "metadata": {},
     "output_type": "execute_result"
    }
   ],
   "source": [
    "files_array1"
   ]
  },
  {
   "cell_type": "code",
   "execution_count": 41,
   "metadata": {
    "scrolled": false
   },
   "outputs": [
    {
     "data": {
      "text/plain": [
       "['.DS_Store',\n",
       " '2019',\n",
       " '2020',\n",
       " 'ID_235092_LGPD_web.pdf',\n",
       " 'ID_233908_Agenda_Legislativa_2020_web.pdf']"
      ]
     },
     "execution_count": 41,
     "metadata": {},
     "output_type": "execute_result"
    }
   ],
   "source": [
    "os.listdir(\"/Users/wpessoa/repositorios/portifolio_nge/pdf/\")"
   ]
  },
  {
   "cell_type": "code",
   "execution_count": 39,
   "metadata": {},
   "outputs": [
    {
     "name": "stdout",
     "output_type": "stream",
     "text": [
      "['/Users/wpessoa/repositorios/portifolio_nge/pdf/ID_235092_LGPD_web.pdf', '/Users/wpessoa/repositorios/portifolio_nge/pdf/ID_233908_Agenda_Legislativa_2020_web.pdf']\n"
     ]
    }
   ],
   "source": [
    "import glob\n",
    "print (glob.glob(\"/Users/wpessoa/repositorios/portifolio_nge/pdf/*.pdf\"))"
   ]
  },
  {
   "cell_type": "code",
   "execution_count": 51,
   "metadata": {},
   "outputs": [],
   "source": [
    "teste=os.walk(\"/Users/wpessoa/repositorios/portifolio_nge/pdf/\")"
   ]
  },
  {
   "cell_type": "code",
   "execution_count": 53,
   "metadata": {},
   "outputs": [
    {
     "data": {
      "text/plain": [
       "['/Users/wpessoa/repositorios/portifolio_nge/pdf/2019/',\n",
       " '/Users/wpessoa/repositorios/portifolio_nge/pdf/2020/']"
      ]
     },
     "execution_count": 53,
     "metadata": {},
     "output_type": "execute_result"
    }
   ],
   "source": [
    "from glob import glob\n",
    "glob(\"/Users/wpessoa/repositorios/portifolio_nge/pdf/*/\")"
   ]
  },
  {
   "cell_type": "code",
   "execution_count": 56,
   "metadata": {
    "scrolled": true
   },
   "outputs": [
    {
     "name": "stdout",
     "output_type": "stream",
     "text": [
      "['/Users/wpessoa/repositorios/portifolio_nge/pdf/2019', '/Users/wpessoa/repositorios/portifolio_nge/pdf/2020']\n"
     ]
    }
   ],
   "source": [
    "subfolders = [ f.path for f in os.scandir(fileDir) if f.is_dir() ]\n",
    "print(subfolders)"
   ]
  },
  {
   "cell_type": "code",
   "execution_count": 57,
   "metadata": {},
   "outputs": [],
   "source": [
    "def fast_scandir(dirname):\n",
    "    subfolders= [f.path for f in os.scandir(dirname) if f.is_dir()]\n",
    "    for dirname in list(subfolders):\n",
    "        subfolders.extend(fast_scandir(dirname))\n",
    "    return subfolders"
   ]
  },
  {
   "cell_type": "code",
   "execution_count": 58,
   "metadata": {},
   "outputs": [
    {
     "data": {
      "text/plain": [
       "['/Users/wpessoa/repositorios/portifolio_nge/pdf/2019',\n",
       " '/Users/wpessoa/repositorios/portifolio_nge/pdf/2020',\n",
       " '/Users/wpessoa/repositorios/portifolio_nge/pdf/2020/CNI',\n",
       " '/Users/wpessoa/repositorios/portifolio_nge/pdf/2020/CNI/PROTOCOLO DE ENCERRAMENTO',\n",
       " '/Users/wpessoa/repositorios/portifolio_nge/pdf/2020/CNI/PROTOCOLO DE ENCERRAMENTO/233555_Agenda Legislativa da Industria',\n",
       " '/Users/wpessoa/repositorios/portifolio_nge/pdf/2020/CNI/PROTOCOLO DE ENCERRAMENTO/193359_Estratégias Corporativas de Baixo Carbono',\n",
       " '/Users/wpessoa/repositorios/portifolio_nge/pdf/2020/CNI/PROTOCOLO DE ENCERRAMENTO/233555_Agenda Legislativa da Industria/PDF_Reprografia',\n",
       " '/Users/wpessoa/repositorios/portifolio_nge/pdf/2020/CNI/PROTOCOLO DE ENCERRAMENTO/233555_Agenda Legislativa da Industria/PDF_Grafica',\n",
       " '/Users/wpessoa/repositorios/portifolio_nge/pdf/2020/CNI/PROTOCOLO DE ENCERRAMENTO/233555_Agenda Legislativa da Industria/PDF_Internet',\n",
       " '/Users/wpessoa/repositorios/portifolio_nge/pdf/2020/CNI/PROTOCOLO DE ENCERRAMENTO/233555_Agenda Legislativa da Industria/PDF_Interativo',\n",
       " '/Users/wpessoa/repositorios/portifolio_nge/pdf/2020/CNI/PROTOCOLO DE ENCERRAMENTO/233555_Agenda Legislativa da Industria/Arquivo_indesign',\n",
       " '/Users/wpessoa/repositorios/portifolio_nge/pdf/2020/CNI/PROTOCOLO DE ENCERRAMENTO/233555_Agenda Legislativa da Industria/Arquivo_Acessibilidade',\n",
       " '/Users/wpessoa/repositorios/portifolio_nge/pdf/2020/CNI/PROTOCOLO DE ENCERRAMENTO/233555_Agenda Legislativa da Industria/Mockup',\n",
       " '/Users/wpessoa/repositorios/portifolio_nge/pdf/2020/CNI/PROTOCOLO DE ENCERRAMENTO/233555_Agenda Legislativa da Industria/Especificacoes_grafica',\n",
       " '/Users/wpessoa/repositorios/portifolio_nge/pdf/2020/CNI/PROTOCOLO DE ENCERRAMENTO/233555_Agenda Legislativa da Industria/Arquivo_indesign/ID_233908_Agenda_Legislativa_2020_capa',\n",
       " '/Users/wpessoa/repositorios/portifolio_nge/pdf/2020/CNI/PROTOCOLO DE ENCERRAMENTO/233555_Agenda Legislativa da Industria/Arquivo_indesign/ID_233908_Agenda_Legislativa_2020_miolo',\n",
       " '/Users/wpessoa/repositorios/portifolio_nge/pdf/2020/CNI/PROTOCOLO DE ENCERRAMENTO/193359_Estratégias Corporativas de Baixo Carbono/PDF_Reprografia',\n",
       " '/Users/wpessoa/repositorios/portifolio_nge/pdf/2020/CNI/PROTOCOLO DE ENCERRAMENTO/193359_Estratégias Corporativas de Baixo Carbono/PDF_Grafica',\n",
       " '/Users/wpessoa/repositorios/portifolio_nge/pdf/2020/CNI/PROTOCOLO DE ENCERRAMENTO/193359_Estratégias Corporativas de Baixo Carbono/PDF_Internet',\n",
       " '/Users/wpessoa/repositorios/portifolio_nge/pdf/2020/CNI/PROTOCOLO DE ENCERRAMENTO/193359_Estratégias Corporativas de Baixo Carbono/Arquivos_Indesign',\n",
       " '/Users/wpessoa/repositorios/portifolio_nge/pdf/2020/CNI/PROTOCOLO DE ENCERRAMENTO/193359_Estratégias Corporativas de Baixo Carbono/Especificacao_Grafica',\n",
       " '/Users/wpessoa/repositorios/portifolio_nge/pdf/2020/CNI/PROTOCOLO DE ENCERRAMENTO/193359_Estratégias Corporativas de Baixo Carbono/Arquivo_Acessibilidade',\n",
       " '/Users/wpessoa/repositorios/portifolio_nge/pdf/2020/CNI/PROTOCOLO DE ENCERRAMENTO/193359_Estratégias Corporativas de Baixo Carbono/Mockup',\n",
       " '/Users/wpessoa/repositorios/portifolio_nge/pdf/2020/CNI/PROTOCOLO DE ENCERRAMENTO/193359_Estratégias Corporativas de Baixo Carbono/Arquivos_Indesign/Pasta Miolo',\n",
       " '/Users/wpessoa/repositorios/portifolio_nge/pdf/2020/CNI/PROTOCOLO DE ENCERRAMENTO/193359_Estratégias Corporativas de Baixo Carbono/Arquivos_Indesign/Pasta Capa']"
      ]
     },
     "execution_count": 58,
     "metadata": {},
     "output_type": "execute_result"
    }
   ],
   "source": [
    "fast_scandir(fileDir)"
   ]
  },
  {
   "cell_type": "code",
   "execution_count": 48,
   "metadata": {},
   "outputs": [
    {
     "name": "stdout",
     "output_type": "stream",
     "text": [
      "Total de arquivos: 0\n"
     ]
    }
   ],
   "source": [
    "import os\n",
    "\n",
    "pastas = os.listdir(\"/Users/wpessoa/repositorios/portifolio_nge/pdf/\")\n",
    "total = 0\n",
    "arq = open(\"lista_de_arquivos.txt\", \"w\",encoding=\"utf-8\")\n",
    "def listar_pasta(pasta):\n",
    "    tot = 0\n",
    "    subpastas = list()\n",
    "    if os.path.isdir(pasta):\n",
    "        items = os.listdir(pasta)\n",
    "        print(\"\\n\\nARQUIVOS NA PASTA '\"+ str(pasta).upper() + \"' :\",end='\\n\\n')\n",
    "        arq.write(\"ARQUIVOS NA PASTA '\"+ str(pasta).upper() +\"': \\n\")\n",
    "        for item in items:\n",
    "            novo_item = os.path.join(pasta,item)\n",
    "            if os.path.isdir(novo_item):\n",
    "                subpastas.append(novo_item)\n",
    "                continue\n",
    "            print(item)\n",
    "            arq.write(item + \"\\n\")\n",
    "            tot += 1\n",
    "        for subpasta in subpastas:\n",
    "            tot += listar_pasta(subpasta)\n",
    "    arq.write(\"\\n\")\n",
    "    return tot\n",
    "\n",
    "if __name__ == '__main__':\n",
    "    for pasta in pastas:\n",
    "        total +=  listar_pasta(pasta)\n",
    "    print(\"Total de arquivos: \" + str(total))\n",
    "    arq.write(\"# Total de arquivos : \"+ str(total))\n",
    "    arq.close()"
   ]
  },
  {
   "cell_type": "code",
   "execution_count": null,
   "metadata": {},
   "outputs": [],
   "source": []
  }
 ],
 "metadata": {
  "kernelspec": {
   "display_name": "Python 3",
   "language": "python",
   "name": "python3"
  },
  "language_info": {
   "codemirror_mode": {
    "name": "ipython",
    "version": 3
   },
   "file_extension": ".py",
   "mimetype": "text/x-python",
   "name": "python",
   "nbconvert_exporter": "python",
   "pygments_lexer": "ipython3",
   "version": "3.8.5"
  }
 },
 "nbformat": 4,
 "nbformat_minor": 4
}
