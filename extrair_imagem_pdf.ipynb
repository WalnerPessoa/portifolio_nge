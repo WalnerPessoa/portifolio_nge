{
 "cells": [
  {
   "cell_type": "code",
   "execution_count": 116,
   "metadata": {},
   "outputs": [
    {
     "name": "stdout",
     "output_type": "stream",
     "text": [
      "/Users/wpessoa/repositorios/portifolio_nge\r\n"
     ]
    }
   ],
   "source": [
    "# -*- coding: utf-8 -*- \n",
    "!pwd\n",
    "import os\n",
    "import re"
   ]
  },
  {
   "cell_type": "code",
   "execution_count": 12,
   "metadata": {
    "scrolled": true
   },
   "outputs": [
    {
     "name": "stdout",
     "output_type": "stream",
     "text": [
      "Collecting PyPDF2\n",
      "  Downloading PyPDF2-1.26.0.tar.gz (77 kB)\n",
      "\u001b[K     |████████████████████████████████| 77 kB 2.2 MB/s eta 0:00:011\n",
      "\u001b[?25hBuilding wheels for collected packages: PyPDF2\n",
      "  Building wheel for PyPDF2 (setup.py) ... \u001b[?25ldone\n",
      "\u001b[?25h  Created wheel for PyPDF2: filename=PyPDF2-1.26.0-py3-none-any.whl size=61084 sha256=9a983e6f2dc7d97c98f8a5f199d0985273d0bcd1cafae1d7dca8ebddbd0f5c2d\n",
      "  Stored in directory: /Users/wpessoa/Library/Caches/pip/wheels/b1/1a/8f/a4c34be976825a2f7948d0fa40907598d69834f8ab5889de11\n",
      "Successfully built PyPDF2\n",
      "Installing collected packages: PyPDF2\n",
      "Successfully installed PyPDF2-1.26.0\n"
     ]
    }
   ],
   "source": [
    "!pip install PyPDF2"
   ]
  },
  {
   "cell_type": "code",
   "execution_count": 13,
   "metadata": {},
   "outputs": [],
   "source": [
    "import PyPDF2"
   ]
  },
  {
   "cell_type": "code",
   "execution_count": 69,
   "metadata": {
    "scrolled": false
   },
   "outputs": [
    {
     "name": "stdout",
     "output_type": "stream",
     "text": [
      "99\n",
      "100\n"
     ]
    }
   ],
   "source": [
    "fileExt = r\"pdf\"\n",
    "\n",
    "pasta = \"/Users/wpessoa/repositorios/pdf_nge/2020/\"\n",
    "pdf_todos = os.listdir(pasta)\n",
    "\n",
    "files_array = [_ for _ in os.listdir(pasta) if _.endswith(fileExt)] \n",
    "\n",
    "print(len(files_array))    \n",
    "print(len(pdf_todos))"
   ]
  },
  {
   "cell_type": "code",
   "execution_count": null,
   "metadata": {},
   "outputs": [],
   "source": [
    "if re.search('FICHA CATALOGRÁFICA', linha, re.IGNORECASE):"
   ]
  },
  {
   "cell_type": "code",
   "execution_count": 120,
   "metadata": {},
   "outputs": [
    {
     "name": "stdout",
     "output_type": "stream",
     "text": [
      "Collecting PyMuPDF\n",
      "  Downloading PyMuPDF-1.18.6-cp38-cp38-macosx_10_9_x86_64.whl (5.6 MB)\n",
      "\u001b[K     |████████████████████████████████| 5.6 MB 1.0 MB/s eta 0:00:01\n",
      "\u001b[?25hCollecting Pillow\n",
      "  Downloading Pillow-8.1.0-cp38-cp38-macosx_10_10_x86_64.whl (2.2 MB)\n",
      "\u001b[K     |████████████████████████████████| 2.2 MB 136 kB/s ta 0:00:011\n",
      "\u001b[?25hInstalling collected packages: PyMuPDF, Pillow\n",
      "Successfully installed Pillow-8.1.0 PyMuPDF-1.18.6\n"
     ]
    }
   ],
   "source": [
    "# Início do método para extrair imagem ----------------------------------------------------------------------------\n",
    "#!pip3 install PyMuPDF Pillow\n"
   ]
  },
  {
   "cell_type": "code",
   "execution_count": 121,
   "metadata": {},
   "outputs": [],
   "source": [
    "#!pip3 install PyMuPDF Pillow\n",
    "# Open up a new Python file and let's get started. First, let's import the libraries:\n",
    "\n",
    "import fitz # PyMuPDF\n",
    "import io\n",
    "from PIL import Image"
   ]
  },
  {
   "cell_type": "code",
   "execution_count": 173,
   "metadata": {},
   "outputs": [],
   "source": [
    "# file path you want to extract images from\n",
    "file = pasta+files_array[0]\n",
    "# open the file\n",
    "pdf_file = fitz.open(file)"
   ]
  },
  {
   "cell_type": "code",
   "execution_count": 174,
   "metadata": {},
   "outputs": [
    {
     "name": "stdout",
     "output_type": "stream",
     "text": [
      "52\n",
      "page 0 of /Users/wpessoa/repositorios/pdf_nge/2020/ID_235511_Agenda EUA - web.pdf\n",
      "1\n",
      "[(368, 0, 1242, 928, 8, 'ICCBased', '', 'Im0', 'DCTDecode')]\n"
     ]
    }
   ],
   "source": [
    "print(len(pdf_file))\n",
    "print(pdf_file[0])\n",
    "page = pdf_file[0]\n",
    "image_list = page.getImageList()\n",
    "page_index=0\n",
    "print(len(image_list))\n",
    "print(image_list)"
   ]
  },
  {
   "cell_type": "code",
   "execution_count": 175,
   "metadata": {},
   "outputs": [],
   "source": [
    "for image_index, img in enumerate(page.getImageList(), start=1):\n",
    "        # get the XREF of the image\n",
    "        xref = img[0]\n",
    "        # extract the image bytes\n",
    "        base_image = pdf_file.extractImage(xref)\n",
    "        image_bytes = base_image[\"image\"]\n",
    "        # get the image extension\n",
    "        image_ext = base_image[\"ext\"]\n",
    "        # load it to PIL\n",
    "        image = Image.open(io.BytesIO(image_bytes))\n",
    "        # save it to local disk\n",
    "        image.save(open(f\"image{page_index+1}_{image_index}.{image_ext}\", \"wb\"))"
   ]
  },
  {
   "cell_type": "code",
   "execution_count": null,
   "metadata": {},
   "outputs": [],
   "source": [
    "# Fim método para extrair imagem ----------------------------------------------------------------------------"
   ]
  },
  {
   "cell_type": "code",
   "execution_count": null,
   "metadata": {},
   "outputs": [],
   "source": [
    "#------- INICIO\n",
    "#https://lornajane.net/posts/2020/make-thumbnails-of-pdf-pages-with-imagemagick"
   ]
  },
  {
   "cell_type": "code",
   "execution_count": null,
   "metadata": {},
   "outputs": [],
   "source": [
    "#-------- FIM"
   ]
  },
  {
   "cell_type": "code",
   "execution_count": null,
   "metadata": {},
   "outputs": [],
   "source": [
    "# Início extrair thumbnail da capa do PDF ==================================\n",
    "#https://stackoverflow.com/questions/10083355/python-pdf-thumbnail-preview-generation"
   ]
  },
  {
   "cell_type": "code",
   "execution_count": 143,
   "metadata": {},
   "outputs": [],
   "source": [
    "path_pdf = \"/Users/wpessoa/repositorios/portifolio_nge/\""
   ]
  },
  {
   "cell_type": "code",
   "execution_count": null,
   "metadata": {},
   "outputs": [],
   "source": [
    "# INICIO\n",
    "#https://pypi.org/project/pdf2image/\n",
    "# conda install -c conda-forge poppler #==============>   deu certo esse\n",
    "# install pdf2image 1.14.0\n",
    "\n",
    "# FIM\n"
   ]
  },
  {
   "cell_type": "code",
   "execution_count": 136,
   "metadata": {
    "collapsed": true
   },
   "outputs": [
    {
     "name": "stdout",
     "output_type": "stream",
     "text": [
      "Collecting pdf2image\n",
      "  Downloading pdf2image-1.14.0-py3-none-any.whl (10 kB)\n",
      "Requirement already satisfied: pillow in /Users/wpessoa/miniconda3/envs/py3/lib/python3.8/site-packages (from pdf2image) (8.1.0)\n",
      "Installing collected packages: pdf2image\n",
      "Successfully installed pdf2image-1.14.0\n"
     ]
    }
   ],
   "source": [
    "#https://stackoverflow.com/questions/46184239/extract-a-page-from-a-pdf-as-a-jpeg\n",
    "!pip install pdf2image\n"
   ]
  },
  {
   "cell_type": "code",
   "execution_count": 182,
   "metadata": {},
   "outputs": [],
   "source": [
    "# DEU CERTO\n",
    "\n",
    "#Once installed you can use following code to get images.\n",
    "\n",
    "from pdf2image import convert_from_path\n",
    "#pages = convert_from_path('pdf_file', 500)\n",
    "pages = convert_from_path('ID_236339_O modelo brasileiro de acordos_web.pdf', 200)\n",
    "#Saving pages in jpeg format\n",
    "\n",
    "for page in pages:\n",
    "    page.save('out02.jpg', 'JPEG')"
   ]
  },
  {
   "cell_type": "code",
   "execution_count": 183,
   "metadata": {},
   "outputs": [],
   "source": [
    "# DEU CETO\n",
    "# documentation convert_from_path  ====>      https://pdf2image.readthedocs.io/en/latest/reference.html\n",
    "from pdf2image import convert_from_path \n",
    "pages = convert_from_path('ID_236339_O modelo brasileiro de acordos_web.pdf', 500) \n",
    "#pages = convert_from_path(path_pdf, dpi=500, single_file=True,poppler_path=None) \n",
    "pages[0].save('file02.jpg', 'JPEG')"
   ]
  },
  {
   "cell_type": "code",
   "execution_count": 181,
   "metadata": {},
   "outputs": [],
   "source": [
    "from pdf2image import convert_from_path \n",
    "#pages = convert_from_path('file.pdf', 500) \n",
    "pages = convert_from_path('ID_236339_O modelo brasileiro de acordos_web.pdf', 500, single_file=True) \n",
    "pages[0].save('file_PDF02.jpg', 'JPEG')"
   ]
  },
  {
   "cell_type": "code",
   "execution_count": null,
   "metadata": {},
   "outputs": [],
   "source": [
    "# FIM extrair thumbnail da capa do PDF ==================================\n"
   ]
  },
  {
   "cell_type": "code",
   "execution_count": null,
   "metadata": {},
   "outputs": [],
   "source": [
    "# INICIO ////////////////////////////\n",
    "\n",
    "\n",
    "# http://macappstore.org/poppler/  ======>>>>>> DEU CERTO !!!!!\n",
    "\n",
    "\n",
    "#FIM ////////////////////////////"
   ]
  },
  {
   "cell_type": "code",
   "execution_count": null,
   "metadata": {},
   "outputs": [],
   "source": [
    "# INICIO ===========\n",
    "# https://stackabuse.com/working-with-pdfs-in-python-reading-and-splitting-pages/"
   ]
  },
  {
   "cell_type": "code",
   "execution_count": null,
   "metadata": {},
   "outputs": [],
   "source": [
    "# FIM GERAL =============="
   ]
  },
  {
   "cell_type": "code",
   "execution_count": 102,
   "metadata": {
    "scrolled": true
   },
   "outputs": [
    {
     "name": "stdout",
     "output_type": "stream",
     "text": [
      "CNIGerência Executiva de Assuntos Internacionais \n",
      "----------------------\n",
      "SESI/DNUnidade de Estudos e Prospectiva - UNIEPRO \n",
      "----------------------\n",
      "CNIGerência Executiva de Política Industrial\n",
      "----------------------\n",
      "CNIGerência Executiva de Assuntos Internacionais \n",
      "----------------------\n",
      "CNIGerência Executiva de Assuntos Internacionais \n",
      "----------------------\n",
      "CNIGerência Executiva de Assuntos Internacionais\n",
      "----------------------\n",
      "SESI|DRServiço Social da Indústria\n",
      "----------------------\n",
      "CNIDiretoria de Comunicação - DIRCOM\n",
      "----------------------\n",
      "CNIGerência Executiva de Assuntos Internacionais\n",
      "----------------------\n",
      "CNIGerência Executiva de Meio Ambiente e Sustentabilidade\n",
      "----------------------\n",
      "CNIGerência Executiva de Meio Ambiente e Sustentabilidade - GEMAS\n",
      "----------------------\n",
      "SESI/DNGerência Executiva de Educação \n",
      "----------------------\n",
      "CNIGerencia Executiva de Assuntos Internacionais\n",
      "----------------------\n",
      "CNIDiretoria de Inovação - DI\n",
      "----------------------\n",
      "CNIDiretoria de Comunicação Œ DIRCOM\n",
      "----------------------\n",
      "CNIGerencia Executiva de Meio Ambiente e Sustentabilidade  Œ GEMAS\n",
      "----------------------\n",
      "\n",
      "----------------------\n",
      "CNIDiretoria de Comunicação - DIRCOM\n",
      "----------------------\n",
      "CNIGerência Executiva de Assuntos Internacionais\n",
      "----------------------\n",
      "CONFEDERAÇÃO NACIONAL DA INDÚSTRIA Œ CNI\n",
      "----------------------\n",
      "CNIGerência Executiva de Assuntos Internacionais\n",
      "----------------------\n",
      "SESI/DNUnidade de Estudos e Prospectiva - UNIEPRO \n",
      "----------------------\n",
      "CNIGerência Executiva de Assuntos Internacionais\n",
      "----------------------\n",
      "CNIGerência Executiva de Meio Ambiente e Sustentabilidade - GEMAS\n",
      "----------------------\n",
      "CONFEDERAÇÃO NACIONAL DA INDÚSTRIA Œ CNI\n",
      "----------------------\n",
      "CONFEDERAÇÃO NACIONAL DA INDÚSTRIA Œ CNI\n",
      "----------------------\n",
      "SESI|DRServiço Social da Indústria\n",
      "----------------------\n",
      "SENAI/DNUnidade de Educação Pro˜ssional e Tecnológica - UNIEP\n",
      "----------------------\n",
      "\n",
      "----------------------\n",
      "SESI/DNGerência Executiva de Educação \n",
      "----------------------\n",
      "SESI/DNGerência Executiva de Educação \n",
      "----------------------\n",
      "SENAI/DNUnidade de Educação Pro˜ssional e Tecnológica - UNIEP\n",
      "----------------------\n",
      "CONFEDERAÇÃO NACIONAL DA INDÚSTRIA Œ CNI\n",
      "----------------------\n",
      "CNIGerência Executiva de Meio Ambiente e Sustentabilidade - GEMAS\n",
      "----------------------\n",
      "CNIGerência Executiva de Assuntos Internacionais \n",
      "----------------------\n",
      "SESI/DNGerência Executiva de Educação \n",
      "----------------------\n",
      "CNIGerência Executiva de Assuntos Internacionais\n",
      "----------------------\n",
      "CNIGerência Executiva de Meio Ambiente e Sustentabilidade Œ GEMAS\n",
      "----------------------\n",
      "SESI/DNUnidade de Educação \n",
      "----------------------\n",
      "CNIGerencia Executiva de Assuntos Internacionais \n",
      "----------------------\n",
      "CNIGerência Executiva de Meio Ambiente e Sustentabilidade - GEMAS\n",
      "----------------------\n",
      "SESI/DNGerência Executiva de Educação \n",
      "----------------------\n",
      "SENAI/DNUnidade de Educação Pro˜ssional e Tecnológica - UNIEP\n",
      "----------------------\n",
      "CNIGerência Executiva de Assuntos Internacionais \n",
      "----------------------\n",
      "CNIGerencia Executiva de Assuntos Internacionais \n",
      "----------------------\n",
      "CNIGerência Executiva de Assuntos Internacionais\n",
      "----------------------\n",
      "SENAI/DNUnidade de Educação Pro˜ssional e Tecnológica - UNIEP\n",
      "----------------------\n",
      "\n",
      "----------------------\n",
      "CNIGerencia Executiva de Assuntos Internacionais\n",
      "----------------------\n",
      "SENAI/DNUnidade de Educação Pro˜ssional e Tecnológica - UNIEP\n",
      "----------------------\n",
      "CNIGerencia Executiva de Política Industrial - GEPI\n",
      "----------------------\n",
      "CNIGerência Executiva de Assuntos Internacionais\n",
      "----------------------\n",
      "SESI/DNGerência de Educação Básica\n",
      "----------------------\n",
      "CNIGerencia Executiva de Assuntos Internacionais \n",
      "----------------------\n",
      "SENAI/DNUnidade de Educação\n",
      "----------------------\n",
      "SENAI/DNUnidade de Educação Profissional e Tecnológica - UNIEP\n",
      "----------------------\n",
      "SENAI/DN\n",
      "----------------------\n",
      "CNIGerência Executiva de Assuntos Internacionais\n",
      "----------------------\n",
      "SESI/DNGerência Executiva de Educação \n",
      "----------------------\n",
      "CNIGerência Executiva de Assuntos Internacionais\n",
      "----------------------\n",
      "SENAI|DRServiço Nacional de Aprendizagem Industrial\n",
      "----------------------\n",
      "CNIGerência Executiva de Assuntos Internacionais\n",
      "----------------------\n",
      "SENAI/DNUnidade de Educação Pro˜ssional e Tecnológica - UNIEP\n",
      "----------------------\n",
      "CNIGerência Executiva de Assuntos Internacionais \n",
      "----------------------\n",
      "\n",
      "----------------------\n",
      "SESI/DNGerência Executiva de Educação \n",
      "----------------------\n",
      "SENAI/DNUnidade de Educação Pro˜ssional e Tecnológica - UNIEP\n",
      "----------------------\n",
      "CNIGerência Executiva de Infraestrutura Œ GINFRA\n",
      "----------------------\n",
      "SENAI|DRServiço Nacional de Aprendizagem Industrial\n",
      "----------------------\n",
      "CNIGerência Executiva de Assuntos Internacionais\n",
      "----------------------\n",
      "CNIGerência Executiva de Assuntos Internacionais\n",
      "----------------------\n",
      "CNIGerência Executiva de Meio Ambiente e Sustentabilidade - GEMAS\n",
      "----------------------\n",
      "CNIGerência Executiva de Meio Ambiente e Sustentabilidade - GEMAS\n",
      "----------------------\n",
      "SENAI/DNUnidade de Educação Pro˜ssional e Tecnológica - UNIEP\n",
      "----------------------\n",
      "CNIGerência Executiva de Assuntos Internacionais \n",
      "----------------------\n",
      "CNIGerencia Executiva de Meio Ambiente e Sustentabilidade  Œ GEMAS\n",
      "----------------------\n",
      "CNIGerência Executiva de Assuntos Internacionais\n",
      "----------------------\n"
     ]
    }
   ],
   "source": [
    "# cria um objeto da classe PdfFileReader que representa o documento no arquivo pdf\n",
    "n=0\n",
    "tabela_01=[]\n",
    "for arquivo in files_array:\n",
    "    f = open(pasta+arquivo, 'rb')\n",
    "    pdf = PyPDF2.PdfFileReader(f)\n",
    "    # quantidade de paginas\n",
    "    pdf_pag = pdf.getNumPages()\n",
    "    # extrai o texto da página indice 5\n",
    "    if pdf_pag>5:\n",
    "        spg5 = pdf.getPage(5).extractText()\n",
    "        pg5 = spg5.split('\\n')\n",
    "        for linha in pg5:\n",
    "            n=n+1\n",
    "            #print(n)\n",
    "            #print(linha)\n",
    "            if (re.search('FICHA CATALOGRÁFICA', linha, re.IGNORECASE)):\n",
    "                #print(linha)\n",
    "                #print(n)\n",
    "                #print(pg5[n-1])\n",
    "                #print(pg5[n-2])\n",
    "                #print(pg5[n-3])\n",
    "                registro = arquivo+\";\"+pg5[2]\n",
    "                tabela_01.append(registro)\n",
    "                print(pg5[2])\n",
    "                print(\"----------------------\")\n",
    "        n=0\n",
    "# após extrair texto não esqueça de fechar o arquivo\n",
    "f.close()"
   ]
  },
  {
   "cell_type": "code",
   "execution_count": 118,
   "metadata": {},
   "outputs": [],
   "source": [
    "import pandas as pd\n",
    "tabelaDf = pd.DataFrame(tabela_01)\n",
    "#tabelaDf = pd.DataFrame(tabela_01,columns=['País', 'Capital'])\n",
    "\n",
    "file_csv = tabelaDf.to_csv(\"catalogo.csv\",index=False,encoding='utf-8-sig')\n",
    "#file_csv = tabelaDf.to_csv(\"catalogo.csv\",index=False, encoding='iso-8859-1',sep=';') \n",
    "\n",
    "#In [5]: df.to_excel('test.xlsx', sheet_name='sheet1', index=False)\n"
   ]
  },
  {
   "cell_type": "code",
   "execution_count": null,
   "metadata": {},
   "outputs": [],
   "source": []
  }
 ],
 "metadata": {
  "kernelspec": {
   "display_name": "Python 3",
   "language": "python",
   "name": "python3"
  },
  "language_info": {
   "codemirror_mode": {
    "name": "ipython",
    "version": 3
   },
   "file_extension": ".py",
   "mimetype": "text/x-python",
   "name": "python",
   "nbconvert_exporter": "python",
   "pygments_lexer": "ipython3",
   "version": "3.8.5"
  }
 },
 "nbformat": 4,
 "nbformat_minor": 4
}
