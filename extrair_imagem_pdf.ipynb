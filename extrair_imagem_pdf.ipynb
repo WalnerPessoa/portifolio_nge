{
 "cells": [
  {
   "cell_type": "code",
   "execution_count": 64,
   "metadata": {},
   "outputs": [
    {
     "name": "stdout",
     "output_type": "stream",
     "text": [
      "/Users/wpessoa/repositorios/portifolio_nge\r\n"
     ]
    }
   ],
   "source": [
    "!pwd\n",
    "import os\n",
    "import re"
   ]
  },
  {
   "cell_type": "code",
   "execution_count": 12,
   "metadata": {
    "scrolled": true
   },
   "outputs": [
    {
     "name": "stdout",
     "output_type": "stream",
     "text": [
      "Collecting PyPDF2\n",
      "  Downloading PyPDF2-1.26.0.tar.gz (77 kB)\n",
      "\u001b[K     |████████████████████████████████| 77 kB 2.2 MB/s eta 0:00:011\n",
      "\u001b[?25hBuilding wheels for collected packages: PyPDF2\n",
      "  Building wheel for PyPDF2 (setup.py) ... \u001b[?25ldone\n",
      "\u001b[?25h  Created wheel for PyPDF2: filename=PyPDF2-1.26.0-py3-none-any.whl size=61084 sha256=9a983e6f2dc7d97c98f8a5f199d0985273d0bcd1cafae1d7dca8ebddbd0f5c2d\n",
      "  Stored in directory: /Users/wpessoa/Library/Caches/pip/wheels/b1/1a/8f/a4c34be976825a2f7948d0fa40907598d69834f8ab5889de11\n",
      "Successfully built PyPDF2\n",
      "Installing collected packages: PyPDF2\n",
      "Successfully installed PyPDF2-1.26.0\n"
     ]
    }
   ],
   "source": [
    "!pip install PyPDF2"
   ]
  },
  {
   "cell_type": "code",
   "execution_count": 13,
   "metadata": {},
   "outputs": [],
   "source": [
    "import PyPDF2"
   ]
  },
  {
   "cell_type": "code",
   "execution_count": 69,
   "metadata": {
    "scrolled": false
   },
   "outputs": [
    {
     "name": "stdout",
     "output_type": "stream",
     "text": [
      "99\n",
      "100\n"
     ]
    }
   ],
   "source": [
    "fileExt = r\"pdf\"\n",
    "\n",
    "pasta = \"/Users/wpessoa/repositorios/pdf_nge/2020/\"\n",
    "pdf_todos = os.listdir(pasta)\n",
    "\n",
    "files_array = [_ for _ in os.listdir(pasta) if _.endswith(fileExt)] \n",
    "\n",
    "print(len(files_array))    \n",
    "print(len(pdf_todos))"
   ]
  },
  {
   "cell_type": "code",
   "execution_count": null,
   "metadata": {},
   "outputs": [],
   "source": [
    "if re.search('FICHA CATALOGRÁFICA', linha, re.IGNORECASE):"
   ]
  },
  {
   "cell_type": "code",
   "execution_count": 102,
   "metadata": {
    "scrolled": true
   },
   "outputs": [
    {
     "name": "stdout",
     "output_type": "stream",
     "text": [
      "CNIGerência Executiva de Assuntos Internacionais \n",
      "----------------------\n",
      "SESI/DNUnidade de Estudos e Prospectiva - UNIEPRO \n",
      "----------------------\n",
      "CNIGerência Executiva de Política Industrial\n",
      "----------------------\n",
      "CNIGerência Executiva de Assuntos Internacionais \n",
      "----------------------\n",
      "CNIGerência Executiva de Assuntos Internacionais \n",
      "----------------------\n",
      "CNIGerência Executiva de Assuntos Internacionais\n",
      "----------------------\n",
      "SESI|DRServiço Social da Indústria\n",
      "----------------------\n",
      "CNIDiretoria de Comunicação - DIRCOM\n",
      "----------------------\n",
      "CNIGerência Executiva de Assuntos Internacionais\n",
      "----------------------\n",
      "CNIGerência Executiva de Meio Ambiente e Sustentabilidade\n",
      "----------------------\n",
      "CNIGerência Executiva de Meio Ambiente e Sustentabilidade - GEMAS\n",
      "----------------------\n",
      "SESI/DNGerência Executiva de Educação \n",
      "----------------------\n",
      "CNIGerencia Executiva de Assuntos Internacionais\n",
      "----------------------\n",
      "CNIDiretoria de Inovação - DI\n",
      "----------------------\n",
      "CNIDiretoria de Comunicação Œ DIRCOM\n",
      "----------------------\n",
      "CNIGerencia Executiva de Meio Ambiente e Sustentabilidade  Œ GEMAS\n",
      "----------------------\n",
      "\n",
      "----------------------\n",
      "CNIDiretoria de Comunicação - DIRCOM\n",
      "----------------------\n",
      "CNIGerência Executiva de Assuntos Internacionais\n",
      "----------------------\n",
      "CONFEDERAÇÃO NACIONAL DA INDÚSTRIA Œ CNI\n",
      "----------------------\n",
      "CNIGerência Executiva de Assuntos Internacionais\n",
      "----------------------\n",
      "SESI/DNUnidade de Estudos e Prospectiva - UNIEPRO \n",
      "----------------------\n",
      "CNIGerência Executiva de Assuntos Internacionais\n",
      "----------------------\n",
      "CNIGerência Executiva de Meio Ambiente e Sustentabilidade - GEMAS\n",
      "----------------------\n",
      "CONFEDERAÇÃO NACIONAL DA INDÚSTRIA Œ CNI\n",
      "----------------------\n",
      "CONFEDERAÇÃO NACIONAL DA INDÚSTRIA Œ CNI\n",
      "----------------------\n",
      "SESI|DRServiço Social da Indústria\n",
      "----------------------\n",
      "SENAI/DNUnidade de Educação Pro˜ssional e Tecnológica - UNIEP\n",
      "----------------------\n",
      "\n",
      "----------------------\n",
      "SESI/DNGerência Executiva de Educação \n",
      "----------------------\n",
      "SESI/DNGerência Executiva de Educação \n",
      "----------------------\n",
      "SENAI/DNUnidade de Educação Pro˜ssional e Tecnológica - UNIEP\n",
      "----------------------\n",
      "CONFEDERAÇÃO NACIONAL DA INDÚSTRIA Œ CNI\n",
      "----------------------\n",
      "CNIGerência Executiva de Meio Ambiente e Sustentabilidade - GEMAS\n",
      "----------------------\n",
      "CNIGerência Executiva de Assuntos Internacionais \n",
      "----------------------\n",
      "SESI/DNGerência Executiva de Educação \n",
      "----------------------\n",
      "CNIGerência Executiva de Assuntos Internacionais\n",
      "----------------------\n",
      "CNIGerência Executiva de Meio Ambiente e Sustentabilidade Œ GEMAS\n",
      "----------------------\n",
      "SESI/DNUnidade de Educação \n",
      "----------------------\n",
      "CNIGerencia Executiva de Assuntos Internacionais \n",
      "----------------------\n",
      "CNIGerência Executiva de Meio Ambiente e Sustentabilidade - GEMAS\n",
      "----------------------\n",
      "SESI/DNGerência Executiva de Educação \n",
      "----------------------\n",
      "SENAI/DNUnidade de Educação Pro˜ssional e Tecnológica - UNIEP\n",
      "----------------------\n",
      "CNIGerência Executiva de Assuntos Internacionais \n",
      "----------------------\n",
      "CNIGerencia Executiva de Assuntos Internacionais \n",
      "----------------------\n",
      "CNIGerência Executiva de Assuntos Internacionais\n",
      "----------------------\n",
      "SENAI/DNUnidade de Educação Pro˜ssional e Tecnológica - UNIEP\n",
      "----------------------\n",
      "\n",
      "----------------------\n",
      "CNIGerencia Executiva de Assuntos Internacionais\n",
      "----------------------\n",
      "SENAI/DNUnidade de Educação Pro˜ssional e Tecnológica - UNIEP\n",
      "----------------------\n",
      "CNIGerencia Executiva de Política Industrial - GEPI\n",
      "----------------------\n",
      "CNIGerência Executiva de Assuntos Internacionais\n",
      "----------------------\n",
      "SESI/DNGerência de Educação Básica\n",
      "----------------------\n",
      "CNIGerencia Executiva de Assuntos Internacionais \n",
      "----------------------\n",
      "SENAI/DNUnidade de Educação\n",
      "----------------------\n",
      "SENAI/DNUnidade de Educação Profissional e Tecnológica - UNIEP\n",
      "----------------------\n",
      "SENAI/DN\n",
      "----------------------\n",
      "CNIGerência Executiva de Assuntos Internacionais\n",
      "----------------------\n",
      "SESI/DNGerência Executiva de Educação \n",
      "----------------------\n",
      "CNIGerência Executiva de Assuntos Internacionais\n",
      "----------------------\n",
      "SENAI|DRServiço Nacional de Aprendizagem Industrial\n",
      "----------------------\n",
      "CNIGerência Executiva de Assuntos Internacionais\n",
      "----------------------\n",
      "SENAI/DNUnidade de Educação Pro˜ssional e Tecnológica - UNIEP\n",
      "----------------------\n",
      "CNIGerência Executiva de Assuntos Internacionais \n",
      "----------------------\n",
      "\n",
      "----------------------\n",
      "SESI/DNGerência Executiva de Educação \n",
      "----------------------\n",
      "SENAI/DNUnidade de Educação Pro˜ssional e Tecnológica - UNIEP\n",
      "----------------------\n",
      "CNIGerência Executiva de Infraestrutura Œ GINFRA\n",
      "----------------------\n",
      "SENAI|DRServiço Nacional de Aprendizagem Industrial\n",
      "----------------------\n",
      "CNIGerência Executiva de Assuntos Internacionais\n",
      "----------------------\n",
      "CNIGerência Executiva de Assuntos Internacionais\n",
      "----------------------\n",
      "CNIGerência Executiva de Meio Ambiente e Sustentabilidade - GEMAS\n",
      "----------------------\n",
      "CNIGerência Executiva de Meio Ambiente e Sustentabilidade - GEMAS\n",
      "----------------------\n",
      "SENAI/DNUnidade de Educação Pro˜ssional e Tecnológica - UNIEP\n",
      "----------------------\n",
      "CNIGerência Executiva de Assuntos Internacionais \n",
      "----------------------\n",
      "CNIGerencia Executiva de Meio Ambiente e Sustentabilidade  Œ GEMAS\n",
      "----------------------\n",
      "CNIGerência Executiva de Assuntos Internacionais\n",
      "----------------------\n"
     ]
    }
   ],
   "source": [
    "# cria um objeto da classe PdfFileReader que representa o documento no arquivo pdf\n",
    "n=0\n",
    "tabela_01=[]\n",
    "for arquivo in files_array:\n",
    "    f = open(pasta+arquivo, 'rb')\n",
    "    pdf = PyPDF2.PdfFileReader(f)\n",
    "    # quantidade de paginas\n",
    "    pdf_pag = pdf.getNumPages()\n",
    "    # extrai o texto da página indice 5\n",
    "    if pdf_pag>5:\n",
    "        spg5 = pdf.getPage(5).extractText()\n",
    "        pg5 = spg5.split('\\n')\n",
    "        for linha in pg5:\n",
    "            n=n+1\n",
    "            #print(n)\n",
    "            #print(linha)\n",
    "            if (re.search('FICHA CATALOGRÁFICA', linha, re.IGNORECASE)):\n",
    "                #print(linha)\n",
    "                #print(n)\n",
    "                #print(pg5[n-1])\n",
    "                #print(pg5[n-2])\n",
    "                #print(pg5[n-3])\n",
    "                registro = arquivo+\";\"+pg5[2]\n",
    "                tabela_01.append(registro)\n",
    "                print(pg5[2])\n",
    "                print(\"----------------------\")\n",
    "        n=0\n",
    "# após extrair texto não esqueça de fechar o arquivo\n",
    "f.close()"
   ]
  },
  {
   "cell_type": "code",
   "execution_count": 101,
   "metadata": {},
   "outputs": [
    {
     "data": {
      "text/plain": [
       "['ID_235511_Agenda EUA - web.pdf;CNIGerência Executiva de Assuntos Internacionais ',\n",
       " 'ID_233839_Competicoes_cientificas_web.pdf;SESI/DNUnidade de Estudos e Prospectiva - UNIEPRO ',\n",
       " 'ID_233867_Efeitos_da_gestao_web.pdf;CNIGerência Executiva de Política Industrial',\n",
       " 'ID_235880_Agenda para o Mexico_web.pdf;CNIGerência Executiva de Assuntos Internacionais ',\n",
       " 'ID_235534_Agenda para o Japão_web.pdf;CNIGerência Executiva de Assuntos Internacionais ',\n",
       " 'ID_236141_Nova lei de expatriação de mão de obra_web.pdf;CNIGerência Executiva de Assuntos Internacionais',\n",
       " 'PG_Relatorio_SESI_web.pdf;SESI|DRServiço Social da Indústria',\n",
       " 'ID_235665_Normas e Politicas de Uso_web.pdf;CNIDiretoria de Comunicação - DIRCOM',\n",
       " 'ID_233893_O_Brasil_e_o_códigos_de_liberalização_web.pdf;CNIGerência Executiva de Assuntos Internacionais',\n",
       " 'ID_233910_Cartilha_Licenciamento_Ambiental+web.pdf;CNIGerência Executiva de Meio Ambiente e Sustentabilidade',\n",
       " 'ID 236028_Reuso de efluentes para abastecimento - web.pdf;CNIGerência Executiva de Meio Ambiente e Sustentabilidade - GEMAS',\n",
       " 'ID 235980_Educacao Infantil 4 a 5 Anos - web.pdf;SESI/DNGerência Executiva de Educação ',\n",
       " 'ID_235353 - OMC Sem Orgao de Apelacao - web.pdf;CNIGerencia Executiva de Assuntos Internacionais',\n",
       " 'ID_236142_O marco legal de ciência - web.pdf;CNIDiretoria de Inovação - DI',\n",
       " 'ID_235382_Manual de Eventos - internet.pdf;CNIDiretoria de Comunicação Œ DIRCOM',\n",
       " 'ID_236157_Cartilha ABNT NBR ISO 20400 - web.pdf;CNIGerencia Executiva de Meio Ambiente e Sustentabilidade  Œ GEMAS',\n",
       " 'ID_235320_Documento_de_referência_para_implantação_das_DCNs_web.pdf;',\n",
       " 'ID_235664_Governanca de Dados - web.pdf;CNIDiretoria de Comunicação - DIRCOM',\n",
       " 'ID_236455_Programas estatais da China_web.pdf;CNIGerência Executiva de Assuntos Internacionais',\n",
       " 'Book_agenda legislativa 2019_web.pdf;CONFEDERAÇÃO NACIONAL DA INDÚSTRIA Œ CNI',\n",
       " 'ID_233904_Estudo_sobre_Medidas_Compensatórias_aplicadas_contra_a_China_WEB.pdf;CNIGerência Executiva de Assuntos Internacionais',\n",
       " 'ID_233906_Panorama Sesi_web.pdf;SESI/DNUnidade de Estudos e Prospectiva - UNIEPRO ',\n",
       " 'ID_235469_Roadmap_port_web.pdf;CNIGerência Executiva de Assuntos Internacionais',\n",
       " 'ID_235878_Estudo sobre o impacto econômico_web.pdf;CNIGerência Executiva de Meio Ambiente e Sustentabilidade - GEMAS',\n",
       " 'ID_233896_Agenda Internacional_2020_web.pdf;CONFEDERAÇÃO NACIONAL DA INDÚSTRIA Œ CNI',\n",
       " 'ID_193359_Estratégias Corporativas de Baixo Carbono_web.pdf;CONFEDERAÇÃO NACIONAL DA INDÚSTRIA Œ CNI',\n",
       " 'Manual_SESI_web.pdf;SESI|DRServiço Social da Indústria',\n",
       " '3_ID_233887_Guia_CT_e_QB_web.pdf;SENAI/DNUnidade de Educação Pro˜ssional e Tecnológica - UNIEP',\n",
       " 'ID_233899_Caderno_de_Ações_e_Resultados_2019_web.pdf;',\n",
       " 'ID 235981_EJA - EF Anos Finais - web.pdf;SESI/DNGerência Executiva de Educação ',\n",
       " 'ID 235979_Educacao Infantil 3 Anos - web.pdf;SESI/DNGerência Executiva de Educação ',\n",
       " '8_ID_233892_Templates_web.pdf;SENAI/DNUnidade de Educação Pro˜ssional e Tecnológica - UNIEP',\n",
       " 'ID_233884_AGENDA_JURIDICA_2020.pdf;CONFEDERAÇÃO NACIONAL DA INDÚSTRIA Œ CNI',\n",
       " 'ID_235331_Enquadramento_Cursos_dagua.pdf;CNIGerência Executiva de Meio Ambiente e Sustentabilidade - GEMAS',\n",
       " 'ID_235651_Agenda para o BRICS_web.pdf;CNIGerência Executiva de Assuntos Internacionais ',\n",
       " 'ID 235986_Ensino Fundamental Anos Iniciais - web.pdf;SESI/DNGerência Executiva de Educação ',\n",
       " 'ID_235469_Roadmap_eng_web.pdf;CNIGerência Executiva de Assuntos Internacionais',\n",
       " 'ID_235142_Bioeconomia_e_a_Industria_brasileira_web.pdf;CNIGerência Executiva de Meio Ambiente e Sustentabilidade Œ GEMAS',\n",
       " 'ID 236121_Proposta pedagógica - Ensino fundamental - web.pdf;SESI/DNUnidade de Educação ',\n",
       " 'ID_225519_Modelos Aduaneiros_web.pdf;CNIGerencia Executiva de Assuntos Internacionais ',\n",
       " 'ID_235313_Protocolo de Nagoia - web.pdf;CNIGerência Executiva de Meio Ambiente e Sustentabilidade - GEMAS',\n",
       " 'ID_235985_EF_ANOS_FINAIS_web.pdf;SESI/DNGerência Executiva de Educação ',\n",
       " '1_ID_233885_Manual para desenvolvimento de recursos didáticos_web.pdf;SENAI/DNUnidade de Educação Pro˜ssional e Tecnológica - UNIEP',\n",
       " 'ID_235650_Agenda_para_a_Argentina-internet.pdf;CNIGerência Executiva de Assuntos Internacionais ',\n",
       " 'ID_235512_Agenda Ambiental_web.pdf;CNIGerencia Executiva de Assuntos Internacionais ',\n",
       " 'ID_236339_O modelo brasileiro de acordos_web.pdf;CNIGerência Executiva de Assuntos Internacionais',\n",
       " 'ID_236304_A empregabilidade das pessoas - web.pdf;SENAI/DNUnidade de Educação Pro˜ssional e Tecnológica - UNIEP',\n",
       " 'ID_233898_Planejamento_Estrategico_da_MEI_web.pdf;',\n",
       " 'ID_235502_Acordo dupla tributacao BR UK_web.pdf;CNIGerencia Executiva de Assuntos Internacionais',\n",
       " '5_ID_233889_Guia_Autoinstrucionais_web.pdf;SENAI/DNUnidade de Educação Pro˜ssional e Tecnológica - UNIEP',\n",
       " 'ID_235092_LGPD_web.pdf;CNIGerencia Executiva de Política Industrial - GEPI',\n",
       " 'ID_233903_Tradução_dos_Relatórios_EUA_e_UE_sobre_distorções_na_China_web.pdf;CNIGerência Executiva de Assuntos Internacionais',\n",
       " 'ID 236031_Proposta Pedagógica Infantil_web.pdf;SESI/DNGerência de Educação Básica',\n",
       " 'ID_235904_Agenda Ambiental_web.pdf;CNIGerencia Executiva de Assuntos Internacionais ',\n",
       " '2_ID_233886_Metodologia SENAI de Desenvolvimento_web.pdf;SENAI/DNUnidade de Educação',\n",
       " 'BO09_Guia_Senai_Retomada_das_Aulas_web.pdf;SENAI/DNUnidade de Educação Profissional e Tecnológica - UNIEP',\n",
       " 'GUIA_OPERACIONALIZAÇÃO_MSEP_ web.pdf;SENAI/DN',\n",
       " 'ID_235909_Nova Camex_web.pdf;CNIGerência Executiva de Assuntos Internacionais',\n",
       " 'ID 235983_EJA - EF Anos Iniciais - web.pdf;SESI/DNGerência Executiva de Educação ',\n",
       " 'ID_235193_Cooperacao_regulatoria_web.pdf;CNIGerência Executiva de Assuntos Internacionais',\n",
       " 'PG_Relatorio_SENAI_web.pdf;SENAI|DRServiço Nacional de Aprendizagem Industrial',\n",
       " 'ID_236338_A prática brasileira em defesa comercial - web.pdf;CNIGerência Executiva de Assuntos Internacionais',\n",
       " '6_ID_233890_Guia_Estudo_Adaptativo_web.pdf;SENAI/DNUnidade de Educação Pro˜ssional e Tecnológica - UNIEP',\n",
       " 'ID_235520_Agenda para a Alemanha_web.pdf;CNIGerência Executiva de Assuntos Internacionais ',\n",
       " 'ID_236534_NR1_web.pdf;',\n",
       " 'ID 235984_EJA - Ensino Medio - web.pdf;SESI/DNGerência Executiva de Educação ',\n",
       " '4_ID_233888_Guia_Customizados_web.pdf;SENAI/DNUnidade de Educação Pro˜ssional e Tecnológica - UNIEP',\n",
       " 'ID_236527_Encargos do setor elétrico_web.pdf;CNIGerência Executiva de Infraestrutura Œ GINFRA',\n",
       " 'Manual_SENAI_web.pdf;SENAI|DRServiço Nacional de Aprendizagem Industrial',\n",
       " 'ID_235905_Proposta de regime para as importacoes_web.pdf;CNIGerência Executiva de Assuntos Internacionais',\n",
       " 'ID_235495_Pesquisa_de_Percepcao_web.pdf;CNIGerência Executiva de Assuntos Internacionais',\n",
       " ' ID 236105 - Produção sustentável de florestas nativas.pdf;CNIGerência Executiva de Meio Ambiente e Sustentabilidade - GEMAS',\n",
       " 'ID_235874_Financiamento para Clima_web.pdf;CNIGerência Executiva de Meio Ambiente e Sustentabilidade - GEMAS',\n",
       " '7_ID_233891_Guia_Microlearning_web.pdf;SENAI/DNUnidade de Educação Pro˜ssional e Tecnológica - UNIEP',\n",
       " 'ID_235810_Agenda para a China - internet.pdf;CNIGerência Executiva de Assuntos Internacionais ',\n",
       " 'ID_236158_Cartilha Compras Públicas Sustentáveis - web.pdf;CNIGerencia Executiva de Meio Ambiente e Sustentabilidade  Œ GEMAS',\n",
       " 'ID_235305_Impactos_Juridicos_Saida - web.pdf;CNIGerência Executiva de Assuntos Internacionais']"
      ]
     },
     "execution_count": 101,
     "metadata": {},
     "output_type": "execute_result"
    }
   ],
   "source": [
    "tabela_01"
   ]
  },
  {
   "cell_type": "code",
   "execution_count": 46,
   "metadata": {},
   "outputs": [
    {
     "data": {
      "text/plain": [
       "str"
      ]
     },
     "execution_count": 46,
     "metadata": {},
     "output_type": "execute_result"
    }
   ],
   "source": [
    "# extrai o texto da página indice 5\n",
    "spg5 = pdf.getPage(5).extractText()\n",
    "type(spg5)"
   ]
  },
  {
   "cell_type": "code",
   "execution_count": 47,
   "metadata": {},
   "outputs": [
    {
     "data": {
      "text/plain": [
       "751"
      ]
     },
     "execution_count": 47,
     "metadata": {},
     "output_type": "execute_result"
    }
   ],
   "source": [
    "# tamanho do texto na página 0\n",
    "len(spg5)"
   ]
  },
  {
   "cell_type": "code",
   "execution_count": 48,
   "metadata": {},
   "outputs": [
    {
     "data": {
      "text/plain": [
       "'© 2020. CNI Œ Confederação Nacional da Indústria.\\nQualquer parte desta obra poderá ser reproduzida, desde que citada a fonte.\\nCNIGerência Executiva de Assuntos Internacionais \\nCNI\\nConfederação Nacional da Indústria\\n\\nSede\\n\\nSetor Bancário Norte\\n\\nQuadra 1 Œ Bloco C\\nEdifício Roberto Simonsen\\n\\n70040-903 Œ Brasília Œ DF\\nTel.: (61) 3317-9000\\n\\nFax: (61) 3317-9994\\n\\nhttp://www.portaldaindustria.com.br/cni/\\nServiço de Atendimento ao Cliente - SAC\\n\\nTels.: (61) 3317-9989/3317-9992\\n\\nsac@cni.org.br\\nFICHA CATALOGRÁFICA\\nC748aConfederação Nacional da Indústria. \\nAgenda para os Estados Unidos / Confederação Nacional da Indústria. Œ \\nBrasília : CNI, 2020. \\n\\n47 p. : il.\\n1.Comércio Exterior. 2. Negócios Bilaterais. 3. Brasil-Estados Unidos. I. Título.\\nCDU: 339.54'"
      ]
     },
     "execution_count": 48,
     "metadata": {},
     "output_type": "execute_result"
    }
   ],
   "source": [
    "spg5[:5000]"
   ]
  },
  {
   "cell_type": "code",
   "execution_count": 49,
   "metadata": {},
   "outputs": [
    {
     "name": "stdout",
     "output_type": "stream",
     "text": [
      "['© 2020. CNI Œ Confederação Nacional da Indústria.', 'Qualquer parte desta obra poderá ser reproduzida, desde que citada a fonte.', 'CNIGerência Executiva de Assuntos Internacionais ', 'CNI', 'Confederação Nacional da Indústria', '', 'Sede', '', 'Setor Bancário Norte', '', 'Quadra 1 Œ Bloco C', 'Edifício Roberto Simonsen', '', '70040-903 Œ Brasília Œ DF', 'Tel.: (61) 3317-9000']\n"
     ]
    }
   ],
   "source": [
    "pg5 = spg5.split('\\n')\n",
    "print(pg5[:15])"
   ]
  },
  {
   "cell_type": "code",
   "execution_count": 54,
   "metadata": {},
   "outputs": [
    {
     "data": {
      "text/plain": [
       "'CNIGerência Executiva de Assuntos Internacionais '"
      ]
     },
     "execution_count": 54,
     "metadata": {},
     "output_type": "execute_result"
    }
   ],
   "source": [
    "pg5[2]"
   ]
  },
  {
   "cell_type": "code",
   "execution_count": null,
   "metadata": {},
   "outputs": [],
   "source": []
  }
 ],
 "metadata": {
  "kernelspec": {
   "display_name": "Python 3",
   "language": "python",
   "name": "python3"
  },
  "language_info": {
   "codemirror_mode": {
    "name": "ipython",
    "version": 3
   },
   "file_extension": ".py",
   "mimetype": "text/x-python",
   "name": "python",
   "nbconvert_exporter": "python",
   "pygments_lexer": "ipython3",
   "version": "3.8.5"
  }
 },
 "nbformat": 4,
 "nbformat_minor": 4
}
