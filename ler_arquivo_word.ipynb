{
 "cells": [
  {
   "cell_type": "code",
   "execution_count": null,
   "metadata": {},
   "outputs": [],
   "source": [
    "#get_file_word.py\n",
    "#!/usr/bin/env python\n",
    "# coding: utf-8"
   ]
  },
  {
   "cell_type": "code",
   "execution_count": null,
   "metadata": {},
   "outputs": [],
   "source": [
    "# metodo para ler arquivo word"
   ]
  },
  {
   "cell_type": "code",
   "execution_count": 1,
   "metadata": {},
   "outputs": [],
   "source": [
    "# importar biblioteca\n",
    "import os\n",
    "# montagem de diretório na rede a partir de um diretório local (pastalocal)\n",
    "#mkdir pastaLocal\n",
    "dir_destino= \"pastaLocal\"\n",
    "if not os.path.exists(dir_destino):\n",
    "    os.makedirs(dir_destino)"
   ]
  },
  {
   "cell_type": "code",
   "execution_count": 2,
   "metadata": {},
   "outputs": [
    {
     "name": "stdout",
     "output_type": "stream",
     "text": [
      "O diretório pastaLocal exite? True\n"
     ]
    }
   ],
   "source": [
    "print(\"O diretório \"+dir_destino+\" exite?\",os.path.exists(dir_destino))"
   ]
  },
  {
   "cell_type": "code",
   "execution_count": 5,
   "metadata": {},
   "outputs": [],
   "source": [
    "# achando o caminho dentro da rede - MONTANDO DIRETÓRIO NA REDE\n",
    "!mount_smbfs smb://ensi-filer02/gerpubprop$ pastaLocal/\n",
    "##### se der ERRO nesse comando ejetar a pasta gerpubprop$ antes e rodar o codigo novamente"
   ]
  },
  {
   "cell_type": "code",
   "execution_count": 7,
   "metadata": {},
   "outputs": [
    {
     "data": {
      "text/plain": [
       "['FEITO',\n",
       " '.smbdeleteAAA1c13d76d004af55b',\n",
       " 'ID233885-1- Metodol Rec Did - rev.docx',\n",
       " 'pre-triagem-2021.xlsx',\n",
       " 'ID233886-2- Metodol LD - rev.docx',\n",
       " '~$pre-triagem-2021.xlsx',\n",
       " 'ID233867-06_12_2019_EFEITOS DA GESTÃO SOBRE A PRODUTIVIDADE - PARA PUBLICAÇÃO_Final_19122019_155125.docx',\n",
       " 'ID236690-Novas barreiras e tendências no comércio internacional.docx',\n",
       " 'formato_data.xlsx']"
      ]
     },
     "execution_count": 7,
     "metadata": {},
     "output_type": "execute_result"
    }
   ],
   "source": [
    "#TESTANDO O MONTAGEM DO DIRETÓRIO\n",
    "os.listdir('/Users/wpessoa/repositorios/portifolio_nge/pastaLocal/Coordenacao de Gestao Editorial/2021/TRIAGEM/')"
   ]
  },
  {
   "cell_type": "code",
   "execution_count": 54,
   "metadata": {},
   "outputs": [
    {
     "name": "stdout",
     "output_type": "stream",
     "text": [
      "Existe esse diretório?  True\n",
      "Quantidade de arquivos do word no diretório:  4\n",
      "-------------------------------------------------------------\n",
      "ID233885-1- Metodol Rec Did - rev.docx\n",
      "Número de ID:  233885\n",
      "Qtd de páginas:  72\n",
      "APRESENTAÇÃO ENCONTRADA\n",
      "-------------------------------------------------------------\n",
      "ID233886-2- Metodol LD - rev.docx\n",
      "Número de ID:  233886\n",
      "Qtd de páginas:  50\n",
      "APRESENTAÇÃO ENCONTRADA\n",
      "-------------------------------------------------------------\n",
      "ID233867-06_12_2019_EFEITOS DA GESTÃO SOBRE A PRODUTIVIDADE - PARA PUBLICAÇÃO_Final_19122019_155125.docx\n",
      "Número de ID:  233867\n",
      "Qtd de páginas:  31\n",
      "APRESENTAÇÃO ENCONTRADA\n",
      "-------------------------------------------------------------\n",
      "ID236690-Novas barreiras e tendências no comércio internacional.docx\n",
      "Número de ID:  236690\n",
      "Qtd de páginas:  49\n",
      "APRESENTAÇÃO ENCONTRADA\n",
      "-------------------------------------------------------------\n"
     ]
    }
   ],
   "source": [
    "import get_file_word as gf\n",
    "import datetime\n",
    "import pandas as pd\n",
    "from datetime import date\n",
    "import shutil\n",
    "import subprocess\n",
    "import re\n",
    "import docx\n",
    "\n",
    "# capturar data do sistema\n",
    "data_atual = date.today()\n",
    "\n",
    "#setar variáveis onde estão arquivos da triagem e tipo do arquivo word (docx)\n",
    "fileExt = r\".docx\"\n",
    "dir_origem = r\"/Users/wpessoa/repositorios/portifolio_nge/pastaLocal/Coordenacao de Gestao Editorial/2021/TRIAGEM/\"\n",
    "\n",
    "# verificar se existe o diretório\n",
    "print(\"Existe esse diretório? \",os.path.exists(dir_origem)) \n",
    "\n",
    "#criar variável contendo todos os arquivos com extensão DOCX no diretório especifico do dir_origem \n",
    "files_array = [_ for _ in os.listdir(dir_origem) if _.endswith(fileExt)]\n",
    "\n",
    "print(\"Quantidade de arquivos do word no diretório: \",len(files_array))\n",
    "# print(files_array)\n",
    "print(\"-------------------------------------------------------------\")\n",
    "\n",
    "# rodar método get_info para ler aquivos do Word e retornar features de cada arquivo\n",
    "# argumentos (diretório e array dos arquivos word)\n",
    "# retorna (NºID,Qtd_caracteres,Qtd_tabela,Qtd_image,data) e gera variável triagem_docx\n",
    "\n",
    "triagem_docx=gf.get_info(dir_origem,files_array)\n",
    "\n",
    "\n",
    "# gerar um Dataframe a partir do método get_file_word (gf)\n",
    "df_triagem_docx = pd.DataFrame(triagem_docx,columns=['Nun_ID',\"Qtd_PG_word\",\"Qtd_carac\",\"Qtd_tabela\",\"Qtd_image\",\"Qtd_estilos\", \"Data\"])\n",
    "\n",
    "# inserindo data da triagem\n",
    "df_triagem_docx['Dt_triagem'] = data_atual\n",
    "df_triagem_docx[\"Apresentação\"]= None\n",
    "\n",
    "\n",
    "# OUTPUT das variáveis do método\n",
    "for i in range(0,len(df_triagem_docx.Nun_ID)):\n",
    "    #print(\"i= \",i)\n",
    "    print(files_array[i])\n",
    "    print(\"Número de ID: \",df_triagem_docx.Nun_ID[i])\n",
    "    print(\"Qtd de páginas: \",df_triagem_docx.Qtd_PG_word[i])\n",
    "    #print(\"Qtd de caracteres: \",df_triagem_docx.Qtd_carac[i])\n",
    "    #print(\"Qtd de tabelas: \",df_triagem_docx.Qtd_tabela[i])\n",
    "    #print(\"Qtd de imagens: \",df_triagem_docx.Qtd_image[i])\n",
    "    #print(\"Qtd de estilos no Word: \",df_triagem_docx.Qtd_estilos[i])\n",
    "    #print(\"Data de criação do documento: \",df_triagem_docx.Data[i])\n",
    "    #df_triagem_docx.loc[[i]].to_excel(\"/Users/wpessoa/repositorios/portifolio_nge/pastaLocal/Coordenacao de Gestao Editorial/2021/TRIAGEM/pre-triagem-ID\"+df_triagem_docx.Nun_ID[i]+\".xlsx\",index=False,header=True )\n",
    "    \n",
    "    \n",
    "    #for file in files_array:\n",
    "    # metodo para veriricar se o texto word tem Apresentação\n",
    "    try: \n",
    "        #print(files_array[i])\n",
    "        doc = docx.Document(dir_origem+files_array[i])\n",
    "        # ler em cada parágrafo dentro do arquivo Word\n",
    "        paragra= [p.text for p in doc.paragraphs]\n",
    "        for paragrafo in list(paragra):\n",
    "            if (re.search('^Apresentação$', paragrafo, re.IGNORECASE))or(re.search('^Apresentação $', paragrafo, re.IGNORECASE)):\n",
    "                print(\"APRESENTAÇÃO ENCONTRADA\")\n",
    "                #print(paragrafo)\n",
    "                df_triagem_docx.loc[i, 'Apresentação']=\"sim\"\n",
    "    except:       \n",
    "        print(\"erro leitura de arquivo\")\n",
    "    print(\"-------------------------------------------------------------\")\n",
    "\n",
    "# recuperar conteudo do arquivo Excel\n",
    "excelFile_old = dir_origem+\"pre-triagem\"+\"-\"+str(data_atual.year)+\".xlsx\"\n",
    "\n",
    "if os.path.exists(excelFile_old):\n",
    "    #print(\"EXISTE ARQUIVO EXCEL\")\n",
    "    excelFile = pd.read_excel(excelFile_old)    \n",
    "    #df_triagem_docx.append(excelFile)\n",
    "    # adicionar dataframe do arquivo excel anterior no dataframe da saida do método  get_file_word\n",
    "    \n",
    "    excelFile = excelFile.append(df_triagem_docx)\n",
    "    \n",
    "    # --------------------------------\n",
    "    # alterar o formato da data\n",
    "    excelFile['Dt_triagem'] = pd.to_datetime(excelFile.Dt_triagem)\n",
    "    excelFile['Dt_triagem'] = excelFile['Dt_triagem'].dt.strftime('%d/%m/%Y')\n",
    "\n",
    "    # --------------------------------\n",
    "    # alterar o formato da data\n",
    "    excelFile['Data'] = pd.to_datetime(excelFile.Data)\n",
    "    excelFile['Data'] = excelFile['Data'].dt.strftime('%d/%m/%Y')\n",
    "\n",
    "    os.remove(excelFile_old)\n",
    "\n",
    "    # --------------------------------\n",
    "    excelFile.to_excel(dir_origem+\"pre-triagem\"+\"-\"+str(data_atual.year)+\".xlsx\",index=False,header=True )\n",
    "    \n",
    "else:\n",
    "    #print(\"(((  NÃO  )))  EXISTE ARQUIVO EXCEL\")\n",
    "    # gerar arquivo excel para arquivo tratado pela primeira vez\n",
    "    df_triagem_docx.to_excel(dir_origem+\"pre-triagem\"+\"-\"+str(data_atual.year)+\".xlsx\",index=False,header=True )\n",
    "\n",
    "# copiara os arquivo word para pasta de processo feito\n",
    "dir_destino = dir_origem+\"/FEITO/\"\n",
    "if len(files_array)>0:\n",
    "    try:\n",
    "        for linha in files_array:\n",
    "            if not os.path.exists(dir_destino):\n",
    "                os.makedirs(dir_destino)\n",
    "            shutil.move(dir_origem+ linha, dir_destino + linha)\n",
    "    except OSError:\n",
    "            print(\"Oops!  erro no método copiara arquivo - ERRO NO S.O.\")"
   ]
  },
  {
   "cell_type": "code",
   "execution_count": 56,
   "metadata": {},
   "outputs": [
    {
     "name": "stdout",
     "output_type": "stream",
     "text": [
      "umount(/Users/wpessoa/repositorios/portifolio_nge/pastaLocal): Resource busy -- try 'diskutil unmount'\r\n"
     ]
    }
   ],
   "source": [
    "#DESMONTANDO DIRETÓRIO NA REDE\n",
    "!umount pastaLocal/\n"
   ]
  },
  {
   "cell_type": "code",
   "execution_count": 52,
   "metadata": {},
   "outputs": [
    {
     "name": "stdout",
     "output_type": "stream",
     "text": [
      "<class 'pandas._libs.tslibs.timestamps.Timestamp'>\n",
      "0   2020-02-05\n",
      "1   2020-02-05\n",
      "2   2019-12-06\n",
      "3   2021-01-25\n",
      "Name: Data, dtype: datetime64[ns]\n",
      "<class 'pandas._libs.tslibs.timestamps.Timestamp'>\n"
     ]
    }
   ],
   "source": [
    "#import datetime\n",
    "#type(df_triagem_docx[\"Data\"])\n",
    "#df_triagem_docx[\"Data\"].dt.date\n",
    "#excelFile['Data'] = \n",
    "#print(pd.to_datetime(excelFile.Data))\n",
    "#print(df_triagem_docx[\"Data\"])\n",
    "\n",
    "#df.date_time.map(lambda x: x.strftime('%Y-%m-%d'))\n",
    "#df_triagem_docx.date_time.map(lambda x: x.strftime('%Y-%m-%d'))\n",
    "#df_triagem_docx.dt.year\n",
    "\n",
    "#data_em_texto = ‘{}/{}/{}’.format(data_atual.day, data_atual.month,data_atual.year)\n",
    "\n",
    "#print(\"Ano: \",df_triagem_docx[\"Data\"][0].year)\n",
    "\n",
    "#data_atual.strftime(‘%d/%m/%Y’)\n",
    "\n",
    "# df['Datetime'] = pd.to_datetime(df['Datetime'], format=\"%m/%d/%Y, %H:%M:%S\")\n",
    "#df_triagem_docx[\"Data\"] = pd.to_datetime(df_triagem_docx['Data'], format=\"%m-%d-%Y\")\n",
    "\n",
    "#%timeit pd.to_datetime(df['Datetime'], format=\"%m/%d/%Y, %H:%M:%S\")\n",
    "#%timeit df['Datetime'].apply(lambda _: datetime.strptime(_,\"%m/%d/%Y, %H:%M:%S\"))\n",
    "#df_triagem_docx[\"Data\"] = df_triagem_docx['Data'].apply(lambda _:datetime.strptime(_,\"%m/%d/%Y, %H:%M:%S\"))\n",
    "#df['DOB1'] = df['DOB'].dt.strftime('%m/%d/%Y')\n",
    "\n",
    "#df_triagem_docx[\"Data\"] = df_triagem_docx[\"Data\"].dt.strftime('%m/%d/%Y')\n",
    "print(type(df_triagem_docx[\"Data\"][0]))\n",
    "df_triagem_docx[\"Data\"] = pd.to_datetime(df_triagem_docx[\"Data\"])\n",
    "\n",
    "#yields_df['Date'] = pd.to_datetime(yields_df['Date'], infer_datetime_format=True)\n",
    "df_triagem_docx[\"Data\"] = pd.to_datetime(df_triagem_docx[\"Data\"], infer_datetime_format=True)\n",
    "\n",
    "#df_triagem_docx[\"Data\"] = pd.to_datetime(df_triagem_docx['Data'], format=\"%m/%d/%Y\")\n",
    "\n",
    "\n",
    "print(df_triagem_docx[\"Data\"])\n",
    "print(type(df_triagem_docx[\"Data\"][0]))\n",
    "\n"
   ]
  },
  {
   "cell_type": "code",
   "execution_count": 142,
   "metadata": {},
   "outputs": [
    {
     "data": {
      "text/html": [
       "<div>\n",
       "<style scoped>\n",
       "    .dataframe tbody tr th:only-of-type {\n",
       "        vertical-align: middle;\n",
       "    }\n",
       "\n",
       "    .dataframe tbody tr th {\n",
       "        vertical-align: top;\n",
       "    }\n",
       "\n",
       "    .dataframe thead th {\n",
       "        text-align: right;\n",
       "    }\n",
       "</style>\n",
       "<table border=\"1\" class=\"dataframe\">\n",
       "  <thead>\n",
       "    <tr style=\"text-align: right;\">\n",
       "      <th></th>\n",
       "      <th>Nun_ID</th>\n",
       "      <th>Qtd_PG_word</th>\n",
       "      <th>Qtd_carac</th>\n",
       "      <th>Qtd_tabela</th>\n",
       "      <th>Qtd_image</th>\n",
       "      <th>Qtd_estilos</th>\n",
       "      <th>Data</th>\n",
       "      <th>Dt_triagem</th>\n",
       "      <th>Apresentação</th>\n",
       "    </tr>\n",
       "  </thead>\n",
       "  <tbody>\n",
       "    <tr>\n",
       "      <th>0</th>\n",
       "      <td>233885</td>\n",
       "      <td>72</td>\n",
       "      <td>97009</td>\n",
       "      <td>19</td>\n",
       "      <td>9</td>\n",
       "      <td>18</td>\n",
       "      <td>2020-02-05</td>\n",
       "      <td>2021-01-27</td>\n",
       "      <td>sim</td>\n",
       "    </tr>\n",
       "    <tr>\n",
       "      <th>1</th>\n",
       "      <td>233886</td>\n",
       "      <td>50</td>\n",
       "      <td>71279</td>\n",
       "      <td>37</td>\n",
       "      <td>32</td>\n",
       "      <td>15</td>\n",
       "      <td>2020-02-05</td>\n",
       "      <td>2021-01-27</td>\n",
       "      <td>sim</td>\n",
       "    </tr>\n",
       "    <tr>\n",
       "      <th>2</th>\n",
       "      <td>233867</td>\n",
       "      <td>31</td>\n",
       "      <td>58108</td>\n",
       "      <td>40</td>\n",
       "      <td>43</td>\n",
       "      <td>17</td>\n",
       "      <td>2019-12-06</td>\n",
       "      <td>2021-01-27</td>\n",
       "      <td>sim</td>\n",
       "    </tr>\n",
       "    <tr>\n",
       "      <th>3</th>\n",
       "      <td>236690</td>\n",
       "      <td>49</td>\n",
       "      <td>80889</td>\n",
       "      <td>46</td>\n",
       "      <td>55</td>\n",
       "      <td>26</td>\n",
       "      <td>2021-01-25</td>\n",
       "      <td>2021-01-27</td>\n",
       "      <td>sim</td>\n",
       "    </tr>\n",
       "  </tbody>\n",
       "</table>\n",
       "</div>"
      ],
      "text/plain": [
       "   Nun_ID Qtd_PG_word  Qtd_carac  Qtd_tabela  Qtd_image  Qtd_estilos  \\\n",
       "0  233885          72      97009          19          9           18   \n",
       "1  233886          50      71279          37         32           15   \n",
       "2  233867          31      58108          40         43           17   \n",
       "3  236690          49      80889          46         55           26   \n",
       "\n",
       "         Data  Dt_triagem Apresentação  \n",
       "0  2020-02-05  2021-01-27          sim  \n",
       "1  2020-02-05  2021-01-27          sim  \n",
       "2  2019-12-06  2021-01-27          sim  \n",
       "3  2021-01-25  2021-01-27          sim  "
      ]
     },
     "execution_count": 142,
     "metadata": {},
     "output_type": "execute_result"
    }
   ],
   "source": [
    "df_triagem_docx"
   ]
  },
  {
   "cell_type": "code",
   "execution_count": 127,
   "metadata": {},
   "outputs": [],
   "source": [
    "df_triagem_docx.loc[2, 'Apresentação']=\"sim\"\n"
   ]
  },
  {
   "cell_type": "code",
   "execution_count": null,
   "metadata": {},
   "outputs": [],
   "source": [
    "'''\n",
    "Oops! XML não encontrado para file: ID234530-1- Metodol Rec Did-erro.docx\n",
    "---------------------------------------------------------------------------\n",
    "UnboundLocalError                         Traceback (most recent call last)\n",
    "<ipython-input-6-9ba5c2b6e97c> in <module>\n",
    "     26 # retorna (NºID,Qtd_caracteres,Qtd_tabela,Qtd_image,data) e gera variável triagem_docx\n",
    "     27 \n",
    "---> 28 triagem_docx=gf.get_info(dir_origem,files_array)\n",
    "     29 \n",
    "     30 \n",
    "\n",
    "~/repositorios/portifolio_nge/get_file_word.py in get_info(fileDir, files_array)\n",
    "     98 \n",
    "     99                 # gerar lista resposta\n",
    "--> 100                 list_retur=file[2:8],pagina_xml,sum(caracteres), len(table_chunks), len(image_array),len(array_styles), dt_doc.date()\n",
    "    101 \n",
    "    102                 # gerar tabela resposta\n",
    "\n",
    "UnboundLocalError: local variable 'pagina_xml' referenced before assignment"
   ]
  },
  {
   "cell_type": "code",
   "execution_count": 95,
   "metadata": {},
   "outputs": [
    {
     "name": "stdout",
     "output_type": "stream",
     "text": [
      "ls: /Users/wpessoa/repositorios/portifolio_nge/pastaLocal/Coordenacao: No such file or directory\r\n",
      "ls: Editorial/2021/TRIAGEM/: No such file or directory\r\n",
      "ls: Gestao: No such file or directory\r\n",
      "ls: de: No such file or directory\r\n"
     ]
    }
   ],
   "source": [
    "!ls /Users/wpessoa/repositorios/portifolio_nge/pastaLocal/Coordenacaode Gestao Editorial/2021/TRIAGEM/"
   ]
  },
  {
   "cell_type": "code",
   "execution_count": 97,
   "metadata": {},
   "outputs": [
    {
     "name": "stdout",
     "output_type": "stream",
     "text": [
      "ID233867-06_12_2019_EFEITOS DA GESTÃO SOBRE A PRODUTIVIDADE - PARA PUBLICAÇÃO_Final_19122019_155125.docx\n",
      "Apresentação encontrada\n",
      "Apresentação \n",
      "ID233885-1- Metodol Rec Did - rev.docx\n",
      "Apresentação encontrada\n",
      "APRESENTAÇÃO\n",
      "~$233867-06_12_2019_EFEITOS DA GESTÃO SOBRE A PRODUTIVIDADE - PARA PUBLICAÇÃO_Final_19122019_155125.docx\n",
      "erro leitura de arquivo\n",
      "~$233885-1- Metodol Rec Did - rev.docx\n",
      "erro leitura de arquivo\n",
      "ID233886-2- Metodol LD - rev.docx\n",
      "Apresentação encontrada\n",
      "APRESENTAÇÃO\n",
      "ID236690-Novas barreiras e tendências no comércio internacional.docx\n",
      "Apresentação encontrada\n",
      "Apresentação\n"
     ]
    }
   ],
   "source": [
    "import subprocess\n",
    "import re\n",
    "import docx\n",
    "\n",
    "for file in files_array:\n",
    "    try: \n",
    "        print(file)\n",
    "        doc = docx.Document(dir_origem+file)\n",
    "        # ler em cada parágrafo dentro do arquivo Word\n",
    "        paragra= [p.text for p in doc.paragraphs]\n",
    "        for paragrafo in list(paragra):\n",
    "            if (re.search('^Apresentação$', paragrafo, re.IGNORECASE))or(re.search('^Apresentação $', paragrafo, re.IGNORECASE)):\n",
    "                print(\"Apresentação encontrada\")\n",
    "                print(paragrafo)\n",
    "    except:\n",
    "        print(\"erro leitura de arquivo\")"
   ]
  },
  {
   "cell_type": "code",
   "execution_count": null,
   "metadata": {},
   "outputs": [],
   "source": []
  }
 ],
 "metadata": {
  "kernelspec": {
   "display_name": "Python 3",
   "language": "python",
   "name": "python3"
  },
  "language_info": {
   "codemirror_mode": {
    "name": "ipython",
    "version": 3
   },
   "file_extension": ".py",
   "mimetype": "text/x-python",
   "name": "python",
   "nbconvert_exporter": "python",
   "pygments_lexer": "ipython3",
   "version": "3.8.5"
  }
 },
 "nbformat": 4,
 "nbformat_minor": 4
}
